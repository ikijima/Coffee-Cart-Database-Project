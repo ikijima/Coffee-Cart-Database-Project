{
 "cells": [
  {
   "cell_type": "markdown",
   "metadata": {},
   "source": [
    "# **Personal Project**"
   ]
  },
  {
   "cell_type": "markdown",
   "metadata": {},
   "source": [
    "## **Coffee Cart Database Project**\n",
    "---"
   ]
  },
  {
   "cell_type": "markdown",
   "metadata": {},
   "source": [
    "Due to the rise of coffee cart vendors, it is imperative to manage the operation well"
   ]
  },
  {
   "cell_type": "markdown",
   "metadata": {},
   "source": [
    "---"
   ]
  },
  {
   "cell_type": "markdown",
   "metadata": {},
   "source": [
    "### **Database Design**"
   ]
  },
  {
   "cell_type": "markdown",
   "metadata": {},
   "source": []
  },
  {
   "cell_type": "markdown",
   "metadata": {},
   "source": [
    "**1. Table Structures**"
   ]
  },
  {
   "cell_type": "markdown",
   "metadata": {},
   "source": [
    "| carts |     |     |\n",
    "| ---  | --- | --- |\n",
    "| cart_id |\n",
    "| location |\n",
    "| employee_id |\n",
    "\n",
    "<br>\n",
    "\n",
    "| products |     |     |\n",
    "| --- | --- | --- |\n",
    "| product_id |\n",
    "| product_name |\n",
    "| price | \n",
    "| description |\n",
    "\n",
    "<br>\n",
    "\n",
    "| cart_products |     |     |\n",
    "| --- | --- | --- |\n",
    "| cart_id |\n",
    "| product_id |\n",
    "| quantity |\n",
    "\n",
    "<br>\n",
    "\n",
    "| ingredients |     |     |\n",
    "| --- | --- | --- |\n",
    "| ingredient_id |\n",
    "| ingredient_name |\n",
    "| metrics |\n",
    "| cost_per_unit |\n",
    "\n",
    "<br>\n",
    "\n",
    "| recipes |     |     |\n",
    "| --- | --- | --- |\n",
    "| recipe_id |\n",
    "| dish_id |\n",
    "|\n"
   ]
  },
  {
   "cell_type": "code",
   "execution_count": null,
   "metadata": {},
   "outputs": [],
   "source": []
  }
 ],
 "metadata": {
  "language_info": {
   "name": "python"
  }
 },
 "nbformat": 4,
 "nbformat_minor": 2
}
